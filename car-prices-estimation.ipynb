{
 "cells": [
  {
   "cell_type": "code",
   "execution_count": 1,
   "id": "9e0e6cd1",
   "metadata": {
    "_cell_guid": "b1076dfc-b9ad-4769-8c92-a6c4dae69d19",
    "_uuid": "8f2839f25d086af736a60e9eeb907d3b93b6e0e5",
    "execution": {
     "iopub.execute_input": "2023-10-06T21:04:01.419829Z",
     "iopub.status.busy": "2023-10-06T21:04:01.418958Z",
     "iopub.status.idle": "2023-10-06T21:04:02.206292Z",
     "shell.execute_reply": "2023-10-06T21:04:02.205254Z"
    },
    "papermill": {
     "duration": 0.798787,
     "end_time": "2023-10-06T21:04:02.208767",
     "exception": false,
     "start_time": "2023-10-06T21:04:01.409980",
     "status": "completed"
    },
    "tags": []
   },
   "outputs": [
    {
     "name": "stdout",
     "output_type": "stream",
     "text": [
      "/kaggle/input/used-car-dataset-ford-and-mercedes/cclass.csv\n",
      "/kaggle/input/used-car-dataset-ford-and-mercedes/unclean cclass.csv\n",
      "/kaggle/input/used-car-dataset-ford-and-mercedes/focus.csv\n",
      "/kaggle/input/used-car-dataset-ford-and-mercedes/audi.csv\n",
      "/kaggle/input/used-car-dataset-ford-and-mercedes/toyota.csv\n",
      "/kaggle/input/used-car-dataset-ford-and-mercedes/skoda.csv\n",
      "/kaggle/input/used-car-dataset-ford-and-mercedes/ford.csv\n",
      "/kaggle/input/used-car-dataset-ford-and-mercedes/vauxhall.csv\n",
      "/kaggle/input/used-car-dataset-ford-and-mercedes/bmw.csv\n",
      "/kaggle/input/used-car-dataset-ford-and-mercedes/vw.csv\n",
      "/kaggle/input/used-car-dataset-ford-and-mercedes/hyundi.csv\n",
      "/kaggle/input/used-car-dataset-ford-and-mercedes/unclean focus.csv\n",
      "/kaggle/input/used-car-dataset-ford-and-mercedes/merc.csv\n"
     ]
    }
   ],
   "source": [
    "# This Python 3 environment comes with many helpful analytics libraries installed\n",
    "# It is defined by the kaggle/python Docker image: https://github.com/kaggle/docker-python\n",
    "# For example, here's several helpful packages to load\n",
    "\n",
    "import numpy as np # linear algebra\n",
    "import pandas as pd # data processing, CSV file I/O (e.g. pd.read_csv)\n",
    "\n",
    "# Input data files are available in the read-only \"../input/\" directory\n",
    "# For example, running this (by clicking run or pressing Shift+Enter) will list all files under the input directory\n",
    "\n",
    "import os\n",
    "for dirname, _, filenames in os.walk('/kaggle/input'):\n",
    "    for filename in filenames:\n",
    "        print(os.path.join(dirname, filename))\n",
    "\n",
    "# You can write up to 20GB to the current directory (/kaggle/working/) that gets preserved as output when you create a version using \"Save & Run All\" \n",
    "# You can also write temporary files to /kaggle/temp/, but they won't be saved outside of the current session"
   ]
  },
  {
   "cell_type": "code",
   "execution_count": 2,
   "id": "dc7960b3",
   "metadata": {
    "execution": {
     "iopub.execute_input": "2023-10-06T21:04:02.225094Z",
     "iopub.status.busy": "2023-10-06T21:04:02.224383Z",
     "iopub.status.idle": "2023-10-06T21:04:03.931716Z",
     "shell.execute_reply": "2023-10-06T21:04:03.930860Z"
    },
    "papermill": {
     "duration": 1.71783,
     "end_time": "2023-10-06T21:04:03.933942",
     "exception": false,
     "start_time": "2023-10-06T21:04:02.216112",
     "status": "completed"
    },
    "tags": []
   },
   "outputs": [
    {
     "data": {
      "text/html": [
       "<div>\n",
       "<style scoped>\n",
       "    .dataframe tbody tr th:only-of-type {\n",
       "        vertical-align: middle;\n",
       "    }\n",
       "\n",
       "    .dataframe tbody tr th {\n",
       "        vertical-align: top;\n",
       "    }\n",
       "\n",
       "    .dataframe thead th {\n",
       "        text-align: right;\n",
       "    }\n",
       "</style>\n",
       "<table border=\"1\" class=\"dataframe\">\n",
       "  <thead>\n",
       "    <tr style=\"text-align: right;\">\n",
       "      <th></th>\n",
       "      <th>model</th>\n",
       "      <th>year</th>\n",
       "      <th>price</th>\n",
       "      <th>transmission</th>\n",
       "      <th>mileage</th>\n",
       "      <th>fuelType</th>\n",
       "      <th>tax</th>\n",
       "      <th>mpg</th>\n",
       "      <th>engineSize</th>\n",
       "    </tr>\n",
       "  </thead>\n",
       "  <tbody>\n",
       "    <tr>\n",
       "      <th>0</th>\n",
       "      <td>SLK</td>\n",
       "      <td>2005</td>\n",
       "      <td>5200</td>\n",
       "      <td>Automatic</td>\n",
       "      <td>63000</td>\n",
       "      <td>Petrol</td>\n",
       "      <td>325</td>\n",
       "      <td>32.1</td>\n",
       "      <td>1.8</td>\n",
       "    </tr>\n",
       "    <tr>\n",
       "      <th>1</th>\n",
       "      <td>S Class</td>\n",
       "      <td>2017</td>\n",
       "      <td>34948</td>\n",
       "      <td>Automatic</td>\n",
       "      <td>27000</td>\n",
       "      <td>Hybrid</td>\n",
       "      <td>20</td>\n",
       "      <td>61.4</td>\n",
       "      <td>2.1</td>\n",
       "    </tr>\n",
       "    <tr>\n",
       "      <th>2</th>\n",
       "      <td>SL CLASS</td>\n",
       "      <td>2016</td>\n",
       "      <td>49948</td>\n",
       "      <td>Automatic</td>\n",
       "      <td>6200</td>\n",
       "      <td>Petrol</td>\n",
       "      <td>555</td>\n",
       "      <td>28.0</td>\n",
       "      <td>5.5</td>\n",
       "    </tr>\n",
       "    <tr>\n",
       "      <th>3</th>\n",
       "      <td>G Class</td>\n",
       "      <td>2016</td>\n",
       "      <td>61948</td>\n",
       "      <td>Automatic</td>\n",
       "      <td>16000</td>\n",
       "      <td>Petrol</td>\n",
       "      <td>325</td>\n",
       "      <td>30.4</td>\n",
       "      <td>4.0</td>\n",
       "    </tr>\n",
       "    <tr>\n",
       "      <th>4</th>\n",
       "      <td>G Class</td>\n",
       "      <td>2016</td>\n",
       "      <td>73948</td>\n",
       "      <td>Automatic</td>\n",
       "      <td>4000</td>\n",
       "      <td>Petrol</td>\n",
       "      <td>325</td>\n",
       "      <td>30.1</td>\n",
       "      <td>4.0</td>\n",
       "    </tr>\n",
       "  </tbody>\n",
       "</table>\n",
       "</div>"
      ],
      "text/plain": [
       "       model  year  price transmission  mileage fuelType  tax   mpg  \\\n",
       "0        SLK  2005   5200    Automatic    63000   Petrol  325  32.1   \n",
       "1    S Class  2017  34948    Automatic    27000   Hybrid   20  61.4   \n",
       "2   SL CLASS  2016  49948    Automatic     6200   Petrol  555  28.0   \n",
       "3    G Class  2016  61948    Automatic    16000   Petrol  325  30.4   \n",
       "4    G Class  2016  73948    Automatic     4000   Petrol  325  30.1   \n",
       "\n",
       "   engineSize  \n",
       "0         1.8  \n",
       "1         2.1  \n",
       "2         5.5  \n",
       "3         4.0  \n",
       "4         4.0  "
      ]
     },
     "execution_count": 2,
     "metadata": {},
     "output_type": "execute_result"
    }
   ],
   "source": [
    "import pandas as pd\n",
    "import numpy as np\n",
    "import seaborn as sns\n",
    "import matplotlib.pyplot as plt\n",
    "from glob import glob\n",
    "\n",
    "df = pd.read_csv(\"/kaggle/input/used-car-dataset-ford-and-mercedes/merc.csv\")\n",
    "df.isnull().sum()   #0\n",
    "df.describe()   #year\tprice\tmileage\ttax\tmpg\tengineSize\n",
    "df.head()"
   ]
  },
  {
   "cell_type": "code",
   "execution_count": 3,
   "id": "aec20baa",
   "metadata": {
    "execution": {
     "iopub.execute_input": "2023-10-06T21:04:03.950388Z",
     "iopub.status.busy": "2023-10-06T21:04:03.949739Z",
     "iopub.status.idle": "2023-10-06T21:04:03.962922Z",
     "shell.execute_reply": "2023-10-06T21:04:03.961769Z"
    },
    "papermill": {
     "duration": 0.023427,
     "end_time": "2023-10-06T21:04:03.965062",
     "exception": false,
     "start_time": "2023-10-06T21:04:03.941635",
     "status": "completed"
    },
    "tags": []
   },
   "outputs": [],
   "source": [
    "x = pd.DataFrame(data=df,columns=df.columns)\n",
    "x.drop(\"price\",axis=1,inplace=True)\n",
    "y = df[\"price\"]"
   ]
  },
  {
   "cell_type": "code",
   "execution_count": 4,
   "id": "820a54b9",
   "metadata": {
    "execution": {
     "iopub.execute_input": "2023-10-06T21:04:03.982075Z",
     "iopub.status.busy": "2023-10-06T21:04:03.981738Z",
     "iopub.status.idle": "2023-10-06T21:04:04.000738Z",
     "shell.execute_reply": "2023-10-06T21:04:03.999419Z"
    },
    "papermill": {
     "duration": 0.030292,
     "end_time": "2023-10-06T21:04:04.002893",
     "exception": false,
     "start_time": "2023-10-06T21:04:03.972601",
     "status": "completed"
    },
    "tags": []
   },
   "outputs": [
    {
     "data": {
      "text/plain": [
       "model             27\n",
       "year              25\n",
       "price           4424\n",
       "transmission       4\n",
       "mileage         9716\n",
       "fuelType           4\n",
       "tax               40\n",
       "mpg              120\n",
       "engineSize        26\n",
       "dtype: int64"
      ]
     },
     "execution_count": 4,
     "metadata": {},
     "output_type": "execute_result"
    }
   ],
   "source": [
    "cat_cols = [col for col in df.columns if df[col].dtype == 'O']\n",
    "num_cols = [col for col in df.columns if df[col].dtype != 'O']\n",
    "df.nunique() #27 Model, 4 Transmission, 4 Fuel type"
   ]
  },
  {
   "cell_type": "markdown",
   "id": "b457c34c",
   "metadata": {
    "papermill": {
     "duration": 0.00676,
     "end_time": "2023-10-06T21:04:04.017007",
     "exception": false,
     "start_time": "2023-10-06T21:04:04.010247",
     "status": "completed"
    },
    "tags": []
   },
   "source": [
    "**HISTOGRAMS OF NUMERICAL VARIABLES**"
   ]
  },
  {
   "cell_type": "code",
   "execution_count": 5,
   "id": "0019b361",
   "metadata": {
    "execution": {
     "iopub.execute_input": "2023-10-06T21:04:04.032544Z",
     "iopub.status.busy": "2023-10-06T21:04:04.032133Z",
     "iopub.status.idle": "2023-10-06T21:04:06.973264Z",
     "shell.execute_reply": "2023-10-06T21:04:06.972122Z"
    },
    "papermill": {
     "duration": 2.951637,
     "end_time": "2023-10-06T21:04:06.975646",
     "exception": false,
     "start_time": "2023-10-06T21:04:04.024009",
     "status": "completed"
    },
    "tags": []
   },
   "outputs": [
    {
     "data": {
      "image/png": "[encoded data removed]",
      "text/plain": [
       "<Figure size 640x480 with 1 Axes>"
      ]
     },
     "metadata": {},
     "output_type": "display_data"
    },
    {
     "data": {
      "image/png": "[encoded data removed]",
      "text/plain": [
       "<Figure size 640x480 with 1 Axes>"
      ]
     },
     "metadata": {},
     "output_type": "display_data"
    },
    {
     "data": {
      "image/png": "[encoded data removed]",
      "text/plain": [
       "<Figure size 640x480 with 1 Axes>"
      ]
     },
     "metadata": {},
     "output_type": "display_data"
    },
    {
     "data": {
      "image/png": "[encoded data removed]",
      "text/plain": [
       "<Figure size 640x480 with 1 Axes>"
      ]
     },
     "metadata": {},
     "output_type": "display_data"
    },
    {
     "data": {
      "image/png": "[encoded data removed]",
      "text/plain": [
       "<Figure size 640x480 with 1 Axes>"
      ]
     },
     "metadata": {},
     "output_type": "display_data"
    },
    {
     "data": {
      "image/png": "[encoded data removed]",
      "text/plain": [
       "<Figure size 640x480 with 1 Axes>"
      ]
     },
     "metadata": {},
     "output_type": "display_data"
    }
   ],
   "source": [
    "for col in num_cols:\n",
    "    sns.histplot(df[col])\n",
    "    plt.show()"
   ]
  },
  {
   "cell_type": "markdown",
   "id": "93a00e63",
   "metadata": {
    "papermill": {
     "duration": 0.008752,
     "end_time": "2023-10-06T21:04:06.993649",
     "exception": false,
     "start_time": "2023-10-06T21:04:06.984897",
     "status": "completed"
    },
    "tags": []
   },
   "source": [
    "When the distributions of numerical variables are examined, outliers stand out.\n",
    "\n",
    "We will aim to minimize the impact of these variables.\n",
    "We can remove them from variable or we can choose a scaler that is not affected by outliers\n",
    "\n",
    "Now We will examine the effects of categorical variables on price."
   ]
  },
  {
   "cell_type": "markdown",
   "id": "383c3dab",
   "metadata": {
    "papermill": {
     "duration": 0.008962,
     "end_time": "2023-10-06T21:04:07.011608",
     "exception": false,
     "start_time": "2023-10-06T21:04:07.002646",
     "status": "completed"
    },
    "tags": []
   },
   "source": [
    "**PRICE AVERAGES REGARDS TO CATEGORICAL VARIABLES**"
   ]
  },
  {
   "cell_type": "code",
   "execution_count": 6,
   "id": "04f5388a",
   "metadata": {
    "execution": {
     "iopub.execute_input": "2023-10-06T21:04:07.031823Z",
     "iopub.status.busy": "2023-10-06T21:04:07.030885Z",
     "iopub.status.idle": "2023-10-06T21:04:07.108604Z",
     "shell.execute_reply": "2023-10-06T21:04:07.107378Z"
    },
    "papermill": {
     "duration": 0.090506,
     "end_time": "2023-10-06T21:04:07.111158",
     "exception": false,
     "start_time": "2023-10-06T21:04:07.020652",
     "status": "completed"
    },
    "tags": []
   },
   "outputs": [
    {
     "name": "stdout",
     "output_type": "stream",
     "text": [
      "Categorical Variable: model\n",
      "Value      Mean       Std Deviation\n",
      " SLK       10787.32   4974.02   \n",
      " S Class   45075.45   21439.05  \n",
      " SL CLASS  31217.44   16981.15  \n",
      " G Class   98934.20   42022.63  \n",
      " GLE Class 40183.86   12258.46  \n",
      " GLA Class 20427.66   4010.76   \n",
      " A Class   19849.60   11183.56  \n",
      " B Class   18896.83   6003.38   \n",
      " GLC Class 32929.40   9451.86   \n",
      " C Class   23695.82   8765.29   \n",
      " E Class   25481.42   10218.83  \n",
      " GL Class  21359.71   6699.42   \n",
      " CLS Class 26743.19   11493.38  \n",
      " CLC Class 5516.67    713.17    \n",
      " CLA Class 20836.06   7229.48   \n",
      " V Class   32446.62   11794.37  \n",
      " M Class   17365.94   5420.05   \n",
      " CL Class  21448.87   6082.81   \n",
      " GLS Class 47219.54   11154.43  \n",
      " GLB Class 37673.53   2918.70   \n",
      " X-CLASS   29695.11   5477.60   \n",
      "180        10799.00   nan       \n",
      " CLK       3077.86    631.45    \n",
      " R Class   9474.50    3570.18   \n",
      "230        4500.00    nan       \n",
      "220        19995.00   nan       \n",
      "200        19495.00   nan       \n",
      "==============================\n",
      "Categorical Variable: transmission\n",
      "Value      Mean       Std Deviation\n",
      "Automatic  24406.96   12549.61  \n",
      "Manual     15442.43   4242.89   \n",
      "Semi-Auto  26858.46   11451.01  \n",
      "Other      15847.50   4034.04   \n",
      "==============================\n",
      "Categorical Variable: fuelType\n",
      "Value      Mean       Std Deviation\n",
      "Petrol     28263.21   15672.27  \n",
      "Hybrid     23091.57   10225.52  \n",
      "Diesel     23275.12   9522.96   \n",
      "Other      21991.29   10362.06  \n",
      "==============================\n"
     ]
    }
   ],
   "source": [
    "for col in cat_cols:\n",
    "    unique_values = df[col].unique()\n",
    "    print(f\"Categorical Variable: {col}\")\n",
    "    print(\"{:<10} {:<10} {:<10}\".format(\"Value\",\"Mean\",\"Std Deviation\"))\n",
    "    for val in unique_values:\n",
    "        subset = df[df[col] == val]\n",
    "        m=subset[\"price\"].mean()\n",
    "        s=subset[\"price\"].std()\n",
    "        print(\"{:<10} {:<10.2f} {:<10.2f}\".format(val,m,s))\n",
    "    print(\"=\"*30)"
   ]
  },
  {
   "cell_type": "markdown",
   "id": "7ff53751",
   "metadata": {
    "papermill": {
     "duration": 0.009037,
     "end_time": "2023-10-06T21:04:07.129495",
     "exception": false,
     "start_time": "2023-10-06T21:04:07.120458",
     "status": "completed"
    },
    "tags": []
   },
   "source": [
    "Transmission has 4 unique value but we can summarize it in two categories. One is (Automatic + Semi-Auto) and the other is (Manual + Other).\n",
    "\"fuel type\" does not give a meaningful idea about the price. I'm thinking of separating them into Petrol and others"
   ]
  },
  {
   "cell_type": "markdown",
   "id": "fa75f829",
   "metadata": {
    "papermill": {
     "duration": 0.009605,
     "end_time": "2023-10-06T21:04:07.148279",
     "exception": false,
     "start_time": "2023-10-06T21:04:07.138674",
     "status": "completed"
    },
    "tags": []
   },
   "source": [
    "**CONVERTIONS OF FUEL TYPE AND TRANSMISSION**"
   ]
  },
  {
   "cell_type": "code",
   "execution_count": 7,
   "id": "b163e47a",
   "metadata": {
    "execution": {
     "iopub.execute_input": "2023-10-06T21:04:07.168499Z",
     "iopub.status.busy": "2023-10-06T21:04:07.168093Z",
     "iopub.status.idle": "2023-10-06T21:04:07.265883Z",
     "shell.execute_reply": "2023-10-06T21:04:07.264749Z"
    },
    "papermill": {
     "duration": 0.110859,
     "end_time": "2023-10-06T21:04:07.268343",
     "exception": false,
     "start_time": "2023-10-06T21:04:07.157484",
     "status": "completed"
    },
    "tags": []
   },
   "outputs": [],
   "source": [
    "def transmission_converter(row):\n",
    "    if row[\"transmission\"] == 'Automatic':\n",
    "        return 1\n",
    "    if row['transmission'] == 'Semi-Auto':\n",
    "        return 1\n",
    "    else:\n",
    "        return 0\n",
    "x[\"transmission2\"]=x.apply(transmission_converter,axis=1)"
   ]
  },
  {
   "cell_type": "code",
   "execution_count": 8,
   "id": "cc95a63b",
   "metadata": {
    "execution": {
     "iopub.execute_input": "2023-10-06T21:04:07.290371Z",
     "iopub.status.busy": "2023-10-06T21:04:07.289387Z",
     "iopub.status.idle": "2023-10-06T21:04:07.364646Z",
     "shell.execute_reply": "2023-10-06T21:04:07.363507Z"
    },
    "papermill": {
     "duration": 0.089077,
     "end_time": "2023-10-06T21:04:07.367095",
     "exception": false,
     "start_time": "2023-10-06T21:04:07.278018",
     "status": "completed"
    },
    "tags": []
   },
   "outputs": [],
   "source": [
    "def fueltype_converter (row):\n",
    "     if row[\"fuelType\"] == 'Petrol':\n",
    "        return 1\n",
    "     else:\n",
    "        return 0\n",
    "x[\"fuel\"]=x.apply(fueltype_converter,axis=1)"
   ]
  },
  {
   "cell_type": "markdown",
   "id": "bd7c62bc",
   "metadata": {
    "papermill": {
     "duration": 0.009491,
     "end_time": "2023-10-06T21:04:07.385776",
     "exception": false,
     "start_time": "2023-10-06T21:04:07.376285",
     "status": "completed"
    },
    "tags": []
   },
   "source": [
    "**CONSTRUCT A NEW VARIABLE**\n",
    "\n",
    "I think we can get a new variable from Mileage and year. "
   ]
  },
  {
   "cell_type": "code",
   "execution_count": 9,
   "id": "54be8965",
   "metadata": {
    "execution": {
     "iopub.execute_input": "2023-10-06T21:04:07.405789Z",
     "iopub.status.busy": "2023-10-06T21:04:07.405425Z",
     "iopub.status.idle": "2023-10-06T21:04:07.412842Z",
     "shell.execute_reply": "2023-10-06T21:04:07.411945Z"
    },
    "papermill": {
     "duration": 0.019906,
     "end_time": "2023-10-06T21:04:07.414681",
     "exception": false,
     "start_time": "2023-10-06T21:04:07.394775",
     "status": "completed"
    },
    "tags": []
   },
   "outputs": [],
   "source": [
    "max_year = x[\"year\"].max()   #max year is 2020. I will take it as 2021. I'll take 2021 to avoid the number/0 inequality\n",
    "max_year = max_year+1\n",
    "x[\"age\"] = (max_year - x[\"year\"])\n",
    "x[\"mpy\"] = x[\"mileage\"]/x[\"age\"]"
   ]
  },
  {
   "cell_type": "markdown",
   "id": "dd3b379e",
   "metadata": {
    "papermill": {
     "duration": 0.009002,
     "end_time": "2023-10-06T21:04:07.433534",
     "exception": false,
     "start_time": "2023-10-06T21:04:07.424532",
     "status": "completed"
    },
    "tags": []
   },
   "source": [
    "**ONE HOT ENCODER AND REMOVING CATEGORICAL VARIABLES**"
   ]
  },
  {
   "cell_type": "code",
   "execution_count": 10,
   "id": "4728804c",
   "metadata": {
    "execution": {
     "iopub.execute_input": "2023-10-06T21:04:07.454023Z",
     "iopub.status.busy": "2023-10-06T21:04:07.453676Z",
     "iopub.status.idle": "2023-10-06T21:04:07.653841Z",
     "shell.execute_reply": "2023-10-06T21:04:07.652468Z"
    },
    "papermill": {
     "duration": 0.21331,
     "end_time": "2023-10-06T21:04:07.656328",
     "exception": false,
     "start_time": "2023-10-06T21:04:07.443018",
     "status": "completed"
    },
    "tags": []
   },
   "outputs": [
    {
     "name": "stderr",
     "output_type": "stream",
     "text": [
      "/opt/conda/lib/python3.10/site-packages/sklearn/preprocessing/_encoders.py:868: FutureWarning: `sparse` was renamed to `sparse_output` in version 1.2 and will be removed in 1.4. `sparse_output` is ignored unless you leave `sparse` to its default value.\n",
      "  warnings.warn(\n"
     ]
    }
   ],
   "source": [
    "from sklearn.preprocessing import OneHotEncoder\n",
    "ohe=OneHotEncoder(sparse=False)\n",
    "\n",
    "model = pd.DataFrame(data=x[\"model\"])\n",
    "model = ohe.fit_transform(model)"
   ]
  },
  {
   "cell_type": "code",
   "execution_count": 11,
   "id": "dc90669d",
   "metadata": {
    "execution": {
     "iopub.execute_input": "2023-10-06T21:04:07.676036Z",
     "iopub.status.busy": "2023-10-06T21:04:07.675650Z",
     "iopub.status.idle": "2023-10-06T21:04:07.687046Z",
     "shell.execute_reply": "2023-10-06T21:04:07.686033Z"
    },
    "papermill": {
     "duration": 0.023978,
     "end_time": "2023-10-06T21:04:07.689445",
     "exception": false,
     "start_time": "2023-10-06T21:04:07.665467",
     "status": "completed"
    },
    "tags": []
   },
   "outputs": [],
   "source": [
    "x=x.drop(\"transmission\",axis=1)\n",
    "x=x.drop(\"fuelType\",axis=1)\n",
    "x=x.drop(\"model\",axis=1)\n",
    "x=x.drop(\"year\",axis=1) #I will use age I don't need \"year\" anymore"
   ]
  },
  {
   "cell_type": "code",
   "execution_count": 12,
   "id": "3d0b1acc",
   "metadata": {
    "execution": {
     "iopub.execute_input": "2023-10-06T21:04:07.709919Z",
     "iopub.status.busy": "2023-10-06T21:04:07.709554Z",
     "iopub.status.idle": "2023-10-06T21:04:07.715907Z",
     "shell.execute_reply": "2023-10-06T21:04:07.714128Z"
    },
    "papermill": {
     "duration": 0.019757,
     "end_time": "2023-10-06T21:04:07.718955",
     "exception": false,
     "start_time": "2023-10-06T21:04:07.699198",
     "status": "completed"
    },
    "tags": []
   },
   "outputs": [],
   "source": [
    "model = pd.DataFrame(data=model)"
   ]
  },
  {
   "cell_type": "code",
   "execution_count": 13,
   "id": "c7d22468",
   "metadata": {
    "execution": {
     "iopub.execute_input": "2023-10-06T21:04:07.740069Z",
     "iopub.status.busy": "2023-10-06T21:04:07.739089Z",
     "iopub.status.idle": "2023-10-06T21:04:07.748399Z",
     "shell.execute_reply": "2023-10-06T21:04:07.747278Z"
    },
    "papermill": {
     "duration": 0.021939,
     "end_time": "2023-10-06T21:04:07.750608",
     "exception": false,
     "start_time": "2023-10-06T21:04:07.728669",
     "status": "completed"
    },
    "tags": []
   },
   "outputs": [],
   "source": [
    "x_train = pd.concat((x,model),axis=1)\n",
    "#x_train=pd.DataFrame(data=x)"
   ]
  },
  {
   "cell_type": "markdown",
   "id": "704354c6",
   "metadata": {
    "papermill": {
     "duration": 0.009654,
     "end_time": "2023-10-06T21:04:07.769806",
     "exception": false,
     "start_time": "2023-10-06T21:04:07.760152",
     "status": "completed"
    },
    "tags": []
   },
   "source": [
    "**OUTLIERS**"
   ]
  },
  {
   "cell_type": "code",
   "execution_count": 14,
   "id": "98a175fb",
   "metadata": {
    "execution": {
     "iopub.execute_input": "2023-10-06T21:04:07.789969Z",
     "iopub.status.busy": "2023-10-06T21:04:07.789625Z",
     "iopub.status.idle": "2023-10-06T21:04:07.814694Z",
     "shell.execute_reply": "2023-10-06T21:04:07.813478Z"
    },
    "papermill": {
     "duration": 0.037801,
     "end_time": "2023-10-06T21:04:07.817142",
     "exception": false,
     "start_time": "2023-10-06T21:04:07.779341",
     "status": "completed"
    },
    "tags": []
   },
   "outputs": [],
   "source": [
    "xf_train = pd.concat((x_train,y),axis=1)\n",
    "xf_train = xf_train[xf_train[\"price\"]<120000]\n",
    "xf_train = xf_train[xf_train[\"mileage\"]<200000]\n",
    "xf_train = xf_train[xf_train[\"tax\"]<400]\n",
    "y=xf_train[\"price\"]"
   ]
  },
  {
   "cell_type": "markdown",
   "id": "965a401c",
   "metadata": {
    "papermill": {
     "duration": 0.009509,
     "end_time": "2023-10-06T21:04:07.836445",
     "exception": false,
     "start_time": "2023-10-06T21:04:07.826936",
     "status": "completed"
    },
    "tags": []
   },
   "source": [
    "**Correlation by Price**"
   ]
  },
  {
   "cell_type": "code",
   "execution_count": 15,
   "id": "fda32d6a",
   "metadata": {
    "execution": {
     "iopub.execute_input": "2023-10-06T21:04:07.857501Z",
     "iopub.status.busy": "2023-10-06T21:04:07.857147Z",
     "iopub.status.idle": "2023-10-06T21:04:07.918392Z",
     "shell.execute_reply": "2023-10-06T21:04:07.917250Z"
    },
    "papermill": {
     "duration": 0.073875,
     "end_time": "2023-10-06T21:04:07.920670",
     "exception": false,
     "start_time": "2023-10-06T21:04:07.846795",
     "status": "completed"
    },
    "tags": []
   },
   "outputs": [
    {
     "data": {
      "text/plain": [
       "price            1.000000\n",
       "mileage          0.566563\n",
       "age              0.555187\n",
       "engineSize       0.531377\n",
       "mpy              0.457579\n",
       "mpg              0.446933\n",
       "tax              0.317386\n",
       "transmission2    0.290302\n",
       "14               0.268634\n",
       "0                0.226997\n",
       "18               0.221568\n",
       "13               0.213324\n",
       "fuel             0.181293\n",
       "15               0.154688\n",
       "1                0.111320\n",
       "20               0.103614\n",
       "11               0.098211\n",
       "21               0.091761\n",
       "9                0.089373\n",
       "19               0.077697\n",
       "3                0.056366\n",
       "2                0.048507\n",
       "12               0.045276\n",
       "6                0.044958\n",
       "22               0.036954\n",
       "16               0.036934\n",
       "8                0.035399\n",
       "4                0.027355\n",
       "7                0.027125\n",
       "10               0.026665\n",
       "5                0.026085\n",
       "23               0.010880\n",
       "17               0.009931\n",
       "24               0.004001\n",
       "25               0.003605\n",
       "26                    NaN\n",
       "Name: price, dtype: float64"
      ]
     },
     "execution_count": 15,
     "metadata": {},
     "output_type": "execute_result"
    }
   ],
   "source": [
    "corr = xf_train.corr()\n",
    "abs(corr[\"price\"]).sort_values(ascending=False)"
   ]
  },
  {
   "cell_type": "code",
   "execution_count": 16,
   "id": "40da0733",
   "metadata": {
    "execution": {
     "iopub.execute_input": "2023-10-06T21:04:08.003119Z",
     "iopub.status.busy": "2023-10-06T21:04:08.002755Z",
     "iopub.status.idle": "2023-10-06T21:04:08.010494Z",
     "shell.execute_reply": "2023-10-06T21:04:08.009256Z"
    },
    "papermill": {
     "duration": 0.021287,
     "end_time": "2023-10-06T21:04:08.013267",
     "exception": false,
     "start_time": "2023-10-06T21:04:07.991980",
     "status": "completed"
    },
    "tags": []
   },
   "outputs": [],
   "source": [
    "xf_train.drop(\"price\",axis=1,inplace=True)"
   ]
  },
  {
   "cell_type": "markdown",
   "id": "d399d068",
   "metadata": {
    "papermill": {
     "duration": 0.009114,
     "end_time": "2023-10-06T21:04:08.032583",
     "exception": false,
     "start_time": "2023-10-06T21:04:08.023469",
     "status": "completed"
    },
    "tags": []
   },
   "source": [
    "**SCALING DATA**"
   ]
  },
  {
   "cell_type": "code",
   "execution_count": 17,
   "id": "605c965a",
   "metadata": {
    "execution": {
     "iopub.execute_input": "2023-10-06T21:04:08.053254Z",
     "iopub.status.busy": "2023-10-06T21:04:08.052537Z",
     "iopub.status.idle": "2023-10-06T21:04:08.056707Z",
     "shell.execute_reply": "2023-10-06T21:04:08.055945Z"
    },
    "papermill": {
     "duration": 0.01665,
     "end_time": "2023-10-06T21:04:08.058505",
     "exception": false,
     "start_time": "2023-10-06T21:04:08.041855",
     "status": "completed"
    },
    "tags": []
   },
   "outputs": [],
   "source": [
    "#from sklearn.preprocessing import MinMaxScaler\n",
    "#scaler = MinMaxScaler()\n",
    "\n",
    "#xf_train.columns = xf_train.columns.astype(str)\n",
    "#Xf_train = scaler.fit_transform(xf_train)"
   ]
  },
  {
   "cell_type": "code",
   "execution_count": 18,
   "id": "46501a89",
   "metadata": {
    "execution": {
     "iopub.execute_input": "2023-10-06T21:04:08.078887Z",
     "iopub.status.busy": "2023-10-06T21:04:08.078510Z",
     "iopub.status.idle": "2023-10-06T21:04:08.097526Z",
     "shell.execute_reply": "2023-10-06T21:04:08.096483Z"
    },
    "papermill": {
     "duration": 0.031841,
     "end_time": "2023-10-06T21:04:08.099698",
     "exception": false,
     "start_time": "2023-10-06T21:04:08.067857",
     "status": "completed"
    },
    "tags": []
   },
   "outputs": [],
   "source": [
    "from sklearn.preprocessing import StandardScaler\n",
    "sc = StandardScaler()\n",
    "xf_train.columns = xf_train.columns.astype(str)\n",
    "Xf_train = sc.fit_transform(xf_train)"
   ]
  },
  {
   "cell_type": "markdown",
   "id": "461cd8d3",
   "metadata": {
    "papermill": {
     "duration": 0.009017,
     "end_time": "2023-10-06T21:04:08.118432",
     "exception": false,
     "start_time": "2023-10-06T21:04:08.109415",
     "status": "completed"
    },
    "tags": []
   },
   "source": [
    "**TRAIN TEST SPLIT**"
   ]
  },
  {
   "cell_type": "code",
   "execution_count": 19,
   "id": "ca031884",
   "metadata": {
    "execution": {
     "iopub.execute_input": "2023-10-06T21:04:08.138656Z",
     "iopub.status.busy": "2023-10-06T21:04:08.138308Z",
     "iopub.status.idle": "2023-10-06T21:04:08.254858Z",
     "shell.execute_reply": "2023-10-06T21:04:08.254068Z"
    },
    "papermill": {
     "duration": 0.129412,
     "end_time": "2023-10-06T21:04:08.257103",
     "exception": false,
     "start_time": "2023-10-06T21:04:08.127691",
     "status": "completed"
    },
    "tags": []
   },
   "outputs": [],
   "source": [
    "from sklearn.model_selection import train_test_split\n",
    "Xtr, Xte, ytr, yte = train_test_split(Xf_train, y, test_size=0.21, random_state=20)"
   ]
  },
  {
   "cell_type": "markdown",
   "id": "ddcfbb83",
   "metadata": {
    "papermill": {
     "duration": 0.009339,
     "end_time": "2023-10-06T21:04:08.275831",
     "exception": false,
     "start_time": "2023-10-06T21:04:08.266492",
     "status": "completed"
    },
    "tags": []
   },
   "source": []
  },
  {
   "cell_type": "markdown",
   "id": "7c1152d0",
   "metadata": {
    "papermill": {
     "duration": 0.013333,
     "end_time": "2023-10-06T21:04:08.298865",
     "exception": false,
     "start_time": "2023-10-06T21:04:08.285532",
     "status": "completed"
    },
    "tags": []
   },
   "source": [
    "**PARAMETER OPTIMIZATION FOR SVR**"
   ]
  },
  {
   "cell_type": "code",
   "execution_count": 20,
   "id": "60b8af0d",
   "metadata": {
    "execution": {
     "iopub.execute_input": "2023-10-06T21:04:08.320745Z",
     "iopub.status.busy": "2023-10-06T21:04:08.320076Z",
     "iopub.status.idle": "2023-10-06T21:04:08.439193Z",
     "shell.execute_reply": "2023-10-06T21:04:08.438386Z"
    },
    "papermill": {
     "duration": 0.132646,
     "end_time": "2023-10-06T21:04:08.442055",
     "exception": false,
     "start_time": "2023-10-06T21:04:08.309409",
     "status": "completed"
    },
    "tags": []
   },
   "outputs": [],
   "source": [
    "from sklearn.metrics import mean_squared_error, mean_absolute_error\n",
    "from sklearn.svm import SVR\n",
    "c_parameters = [0.1, 0.5, 1, 2, 3]\n",
    "kernel_parameters = [\"linear\",\"rbf\",\"poly\"]\n",
    "degrees =[1,3,5]\n",
    "mae_min = 24000\n",
    "parameters = [\"c\",\"k\",\"d\"]\n",
    "#for c in c_parameters:\n",
    "#    for k in kernel_parameters:\n",
    "#        for d in degrees:\n",
    "#            classifier = SVR(kernel=k,degree=d, C=c)\n",
    "#            classifier.fit(Xtr,ytr)\n",
    "#            tahmin_svr = classifier.predict(Xte)\n",
    "#            mae_svr=mean_absolute_error(tahmin_svr,yte)\n",
    "#            if mae_svr < mae_min:\n",
    "#                parameters=[c,k,d]\n",
    "#                mae_min = mae_svr\n",
    "#print(f\"C= {c}, degrees = {d}, kernel= {k} \\n MAE = {mae_min}\")\n",
    "\n",
    "\n",
    "#C= 3, degrees = 5, kernel= poly \n",
    "#MAE = 3496.2915561992572\n"
   ]
  },
  {
   "cell_type": "code",
   "execution_count": 21,
   "id": "8ade7de5",
   "metadata": {
    "execution": {
     "iopub.execute_input": "2023-10-06T21:04:08.476059Z",
     "iopub.status.busy": "2023-10-06T21:04:08.475333Z",
     "iopub.status.idle": "2023-10-06T21:04:08.480303Z",
     "shell.execute_reply": "2023-10-06T21:04:08.479355Z"
    },
    "papermill": {
     "duration": 0.02393,
     "end_time": "2023-10-06T21:04:08.482496",
     "exception": false,
     "start_time": "2023-10-06T21:04:08.458566",
     "status": "completed"
    },
    "tags": []
   },
   "outputs": [],
   "source": [
    "#from sklearn.linear_model import LogisticRegression\n",
    "#classifier = LogisticRegression()\n",
    "#classifier.fit(Xtr,ytr)\n",
    "#tahmin_lr = classifier.predict(Xte)\n",
    "#mae_lr=mean_absolute_error(tahmin_lr,yte)\n"
   ]
  },
  {
   "cell_type": "markdown",
   "id": "5da3cd5c",
   "metadata": {
    "papermill": {
     "duration": 0.009758,
     "end_time": "2023-10-06T21:04:08.502197",
     "exception": false,
     "start_time": "2023-10-06T21:04:08.492439",
     "status": "completed"
    },
    "tags": []
   },
   "source": [
    "I tried logistic regression also but its Mae value is higher than I expect\n",
    "\n",
    "I ran the model for 250 epochs, but I saw that the development stopped after a while, so 25 seems sufficient."
   ]
  },
  {
   "cell_type": "code",
   "execution_count": 22,
   "id": "8c5daee9",
   "metadata": {
    "execution": {
     "iopub.execute_input": "2023-10-06T21:04:08.531052Z",
     "iopub.status.busy": "2023-10-06T21:04:08.530146Z",
     "iopub.status.idle": "2023-10-06T21:04:34.056611Z",
     "shell.execute_reply": "2023-10-06T21:04:34.055292Z"
    },
    "papermill": {
     "duration": 25.541042,
     "end_time": "2023-10-06T21:04:34.059824",
     "exception": false,
     "start_time": "2023-10-06T21:04:08.518782",
     "status": "completed"
    },
    "tags": []
   },
   "outputs": [
    {
     "name": "stdout",
     "output_type": "stream",
     "text": [
      "Epoch 1/100\n",
      "42/42 [==============================] - 2s 7ms/step - loss: 730584192.0000 - val_loss: 706022144.0000\n",
      "Epoch 2/100\n",
      "42/42 [==============================] - 0s 3ms/step - loss: 730443456.0000 - val_loss: 705718848.0000\n",
      "Epoch 3/100\n",
      "42/42 [==============================] - 0s 3ms/step - loss: 729677440.0000 - val_loss: 704113152.0000\n",
      "Epoch 4/100\n",
      "42/42 [==============================] - 0s 4ms/step - loss: 725915776.0000 - val_loss: 696796480.0000\n",
      "Epoch 5/100\n",
      "42/42 [==============================] - 0s 3ms/step - loss: 711113536.0000 - val_loss: 671440320.0000\n",
      "Epoch 6/100\n",
      "42/42 [==============================] - 0s 3ms/step - loss: 667340736.0000 - val_loss: 603697216.0000\n",
      "Epoch 7/100\n",
      "42/42 [==============================] - 0s 3ms/step - loss: 566145024.0000 - val_loss: 466268512.0000\n",
      "Epoch 8/100\n",
      "42/42 [==============================] - 0s 4ms/step - loss: 393136288.0000 - val_loss: 270682176.0000\n",
      "Epoch 9/100\n",
      "42/42 [==============================] - 0s 3ms/step - loss: 199014704.0000 - val_loss: 108087408.0000\n",
      "Epoch 10/100\n",
      "42/42 [==============================] - 0s 3ms/step - loss: 86120368.0000 - val_loss: 53567372.0000\n",
      "Epoch 11/100\n",
      "42/42 [==============================] - 0s 3ms/step - loss: 57649064.0000 - val_loss: 38847172.0000\n",
      "Epoch 12/100\n",
      "42/42 [==============================] - 0s 3ms/step - loss: 47004084.0000 - val_loss: 31148008.0000\n",
      "Epoch 13/100\n",
      "42/42 [==============================] - 0s 3ms/step - loss: 40873004.0000 - val_loss: 26858880.0000\n",
      "Epoch 14/100\n",
      "42/42 [==============================] - 0s 3ms/step - loss: 37969452.0000 - val_loss: 24335004.0000\n",
      "Epoch 15/100\n",
      "42/42 [==============================] - 0s 3ms/step - loss: 35897732.0000 - val_loss: 22762566.0000\n",
      "Epoch 16/100\n",
      "42/42 [==============================] - 0s 3ms/step - loss: 34383504.0000 - val_loss: 21521030.0000\n",
      "Epoch 17/100\n",
      "42/42 [==============================] - 0s 3ms/step - loss: 34012908.0000 - val_loss: 20643972.0000\n",
      "Epoch 18/100\n",
      "42/42 [==============================] - 0s 3ms/step - loss: 32486986.0000 - val_loss: 19931500.0000\n",
      "Epoch 19/100\n",
      "42/42 [==============================] - 0s 5ms/step - loss: 32526836.0000 - val_loss: 19360564.0000\n",
      "Epoch 20/100\n",
      "42/42 [==============================] - 0s 3ms/step - loss: 30731954.0000 - val_loss: 18877278.0000\n",
      "Epoch 21/100\n",
      "42/42 [==============================] - 0s 3ms/step - loss: 30759308.0000 - val_loss: 18404750.0000\n",
      "Epoch 22/100\n",
      "42/42 [==============================] - 0s 3ms/step - loss: 30841256.0000 - val_loss: 17984018.0000\n",
      "Epoch 23/100\n",
      "42/42 [==============================] - 0s 3ms/step - loss: 29402066.0000 - val_loss: 17593230.0000\n",
      "Epoch 24/100\n",
      "42/42 [==============================] - 0s 3ms/step - loss: 28755138.0000 - val_loss: 17279172.0000\n",
      "Epoch 25/100\n",
      "42/42 [==============================] - 0s 3ms/step - loss: 29486662.0000 - val_loss: 17006102.0000\n",
      "Epoch 26/100\n",
      "42/42 [==============================] - 0s 3ms/step - loss: 29267082.0000 - val_loss: 16751015.0000\n",
      "Epoch 27/100\n",
      "42/42 [==============================] - 0s 3ms/step - loss: 27857024.0000 - val_loss: 16562834.0000\n",
      "Epoch 28/100\n",
      "42/42 [==============================] - 0s 3ms/step - loss: 28386330.0000 - val_loss: 16257034.0000\n",
      "Epoch 29/100\n",
      "42/42 [==============================] - 0s 3ms/step - loss: 28100550.0000 - val_loss: 16089247.0000\n",
      "Epoch 30/100\n",
      "42/42 [==============================] - 0s 3ms/step - loss: 28221774.0000 - val_loss: 15920717.0000\n",
      "Epoch 31/100\n",
      "42/42 [==============================] - 0s 3ms/step - loss: 27414220.0000 - val_loss: 15740989.0000\n",
      "Epoch 32/100\n",
      "42/42 [==============================] - 0s 3ms/step - loss: 27008552.0000 - val_loss: 15556876.0000\n",
      "Epoch 33/100\n",
      "42/42 [==============================] - 0s 3ms/step - loss: 26877916.0000 - val_loss: 15342796.0000\n",
      "Epoch 34/100\n",
      "42/42 [==============================] - 0s 4ms/step - loss: 26833914.0000 - val_loss: 15180628.0000\n",
      "Epoch 35/100\n",
      "42/42 [==============================] - 0s 4ms/step - loss: 27331756.0000 - val_loss: 15051220.0000\n",
      "Epoch 36/100\n",
      "42/42 [==============================] - 0s 4ms/step - loss: 27648872.0000 - val_loss: 14848828.0000\n",
      "Epoch 37/100\n",
      "42/42 [==============================] - 0s 3ms/step - loss: 26386746.0000 - val_loss: 14709553.0000\n",
      "Epoch 38/100\n",
      "42/42 [==============================] - 0s 3ms/step - loss: 25616790.0000 - val_loss: 14570223.0000\n",
      "Epoch 39/100\n",
      "42/42 [==============================] - 0s 3ms/step - loss: 25939304.0000 - val_loss: 14465113.0000\n",
      "Epoch 40/100\n",
      "42/42 [==============================] - 0s 3ms/step - loss: 26246538.0000 - val_loss: 14326514.0000\n",
      "Epoch 41/100\n",
      "42/42 [==============================] - 0s 3ms/step - loss: 25885304.0000 - val_loss: 14194116.0000\n",
      "Epoch 42/100\n",
      "42/42 [==============================] - 0s 3ms/step - loss: 25816088.0000 - val_loss: 14056182.0000\n",
      "Epoch 43/100\n",
      "42/42 [==============================] - 0s 3ms/step - loss: 24783358.0000 - val_loss: 13964187.0000\n",
      "Epoch 44/100\n",
      "42/42 [==============================] - 0s 3ms/step - loss: 25633126.0000 - val_loss: 13952380.0000\n",
      "Epoch 45/100\n",
      "42/42 [==============================] - 0s 3ms/step - loss: 25861312.0000 - val_loss: 13856876.0000\n",
      "Epoch 46/100\n",
      "42/42 [==============================] - 0s 3ms/step - loss: 24625756.0000 - val_loss: 13747339.0000\n",
      "Epoch 47/100\n",
      "42/42 [==============================] - 0s 4ms/step - loss: 25489094.0000 - val_loss: 13664775.0000\n",
      "Epoch 48/100\n",
      "42/42 [==============================] - 0s 4ms/step - loss: 24265852.0000 - val_loss: 13607497.0000\n",
      "Epoch 49/100\n",
      "42/42 [==============================] - 0s 4ms/step - loss: 24830470.0000 - val_loss: 13524452.0000\n",
      "Epoch 50/100\n",
      "42/42 [==============================] - 0s 3ms/step - loss: 24638552.0000 - val_loss: 13526505.0000\n",
      "Epoch 51/100\n",
      "42/42 [==============================] - 0s 3ms/step - loss: 25244940.0000 - val_loss: 13435868.0000\n",
      "Epoch 52/100\n",
      "42/42 [==============================] - 0s 3ms/step - loss: 24784602.0000 - val_loss: 13326382.0000\n",
      "Epoch 53/100\n",
      "42/42 [==============================] - 0s 3ms/step - loss: 24500524.0000 - val_loss: 13269765.0000\n",
      "Epoch 54/100\n",
      "42/42 [==============================] - 0s 3ms/step - loss: 24334726.0000 - val_loss: 13208109.0000\n",
      "Epoch 55/100\n",
      "42/42 [==============================] - 0s 3ms/step - loss: 24445304.0000 - val_loss: 13120142.0000\n",
      "Epoch 56/100\n",
      "42/42 [==============================] - 0s 4ms/step - loss: 24238672.0000 - val_loss: 13019087.0000\n",
      "Epoch 57/100\n",
      "42/42 [==============================] - 0s 4ms/step - loss: 23728544.0000 - val_loss: 12974498.0000\n",
      "Epoch 58/100\n",
      "42/42 [==============================] - 0s 3ms/step - loss: 24383314.0000 - val_loss: 12958815.0000\n",
      "Epoch 59/100\n",
      "42/42 [==============================] - 0s 3ms/step - loss: 23812038.0000 - val_loss: 12967375.0000\n",
      "Epoch 60/100\n",
      "42/42 [==============================] - 0s 3ms/step - loss: 24750754.0000 - val_loss: 12921957.0000\n",
      "Epoch 61/100\n",
      "42/42 [==============================] - 0s 3ms/step - loss: 23843610.0000 - val_loss: 12883897.0000\n",
      "Epoch 62/100\n",
      "42/42 [==============================] - 0s 3ms/step - loss: 22988930.0000 - val_loss: 12800108.0000\n",
      "Epoch 63/100\n",
      "42/42 [==============================] - 0s 3ms/step - loss: 23650860.0000 - val_loss: 12758494.0000\n",
      "Epoch 64/100\n",
      "42/42 [==============================] - 0s 3ms/step - loss: 23735452.0000 - val_loss: 12736236.0000\n",
      "Epoch 65/100\n",
      "42/42 [==============================] - 0s 3ms/step - loss: 24022476.0000 - val_loss: 12727466.0000\n",
      "Epoch 66/100\n",
      "42/42 [==============================] - 0s 3ms/step - loss: 23703602.0000 - val_loss: 12658319.0000\n",
      "Epoch 67/100\n",
      "42/42 [==============================] - 0s 3ms/step - loss: 23923028.0000 - val_loss: 12570527.0000\n",
      "Epoch 68/100\n",
      "42/42 [==============================] - 0s 3ms/step - loss: 23782256.0000 - val_loss: 12549985.0000\n",
      "Epoch 69/100\n",
      "42/42 [==============================] - 0s 3ms/step - loss: 23312166.0000 - val_loss: 12479197.0000\n",
      "Epoch 70/100\n",
      "42/42 [==============================] - 0s 3ms/step - loss: 22736012.0000 - val_loss: 12502013.0000\n",
      "Epoch 71/100\n",
      "42/42 [==============================] - 0s 3ms/step - loss: 22997168.0000 - val_loss: 12503502.0000\n",
      "Epoch 72/100\n",
      "42/42 [==============================] - 0s 3ms/step - loss: 23358300.0000 - val_loss: 12436314.0000\n",
      "Epoch 73/100\n",
      "42/42 [==============================] - 0s 3ms/step - loss: 22850326.0000 - val_loss: 12357143.0000\n",
      "Epoch 74/100\n",
      "42/42 [==============================] - 0s 3ms/step - loss: 22942428.0000 - val_loss: 12307104.0000\n",
      "Epoch 75/100\n",
      "42/42 [==============================] - 0s 3ms/step - loss: 23457916.0000 - val_loss: 12293702.0000\n",
      "Epoch 76/100\n",
      "42/42 [==============================] - 0s 3ms/step - loss: 23141066.0000 - val_loss: 12324378.0000\n",
      "Epoch 77/100\n",
      "42/42 [==============================] - 0s 3ms/step - loss: 23547688.0000 - val_loss: 12313461.0000\n",
      "Epoch 78/100\n",
      "42/42 [==============================] - 0s 3ms/step - loss: 23230398.0000 - val_loss: 12350292.0000\n",
      "Epoch 79/100\n",
      "42/42 [==============================] - 0s 3ms/step - loss: 22302444.0000 - val_loss: 12246376.0000\n",
      "Epoch 80/100\n",
      "42/42 [==============================] - 0s 3ms/step - loss: 22926128.0000 - val_loss: 12245582.0000\n",
      "Epoch 81/100\n",
      "42/42 [==============================] - 0s 3ms/step - loss: 23209730.0000 - val_loss: 12153501.0000\n",
      "Epoch 82/100\n",
      "42/42 [==============================] - 0s 3ms/step - loss: 22419646.0000 - val_loss: 12085109.0000\n",
      "Epoch 83/100\n",
      "42/42 [==============================] - 0s 3ms/step - loss: 23493072.0000 - val_loss: 12033413.0000\n",
      "Epoch 84/100\n",
      "42/42 [==============================] - 0s 3ms/step - loss: 22695898.0000 - val_loss: 12078284.0000\n",
      "Epoch 85/100\n",
      "42/42 [==============================] - 0s 3ms/step - loss: 22165532.0000 - val_loss: 12093718.0000\n",
      "Epoch 86/100\n",
      "42/42 [==============================] - 0s 3ms/step - loss: 23105538.0000 - val_loss: 12036062.0000\n",
      "Epoch 87/100\n",
      "42/42 [==============================] - 0s 3ms/step - loss: 22331526.0000 - val_loss: 12035325.0000\n",
      "Epoch 88/100\n",
      "42/42 [==============================] - 0s 3ms/step - loss: 22240998.0000 - val_loss: 12057596.0000\n",
      "Epoch 89/100\n",
      "42/42 [==============================] - 0s 3ms/step - loss: 22302154.0000 - val_loss: 11979237.0000\n",
      "Epoch 90/100\n",
      "42/42 [==============================] - 0s 3ms/step - loss: 21669512.0000 - val_loss: 12023357.0000\n",
      "Epoch 91/100\n",
      "42/42 [==============================] - 0s 3ms/step - loss: 22132564.0000 - val_loss: 11995837.0000\n",
      "Epoch 92/100\n",
      "42/42 [==============================] - 0s 3ms/step - loss: 22079362.0000 - val_loss: 11980738.0000\n",
      "Epoch 93/100\n",
      "42/42 [==============================] - 0s 3ms/step - loss: 22373202.0000 - val_loss: 11865986.0000\n",
      "Epoch 94/100\n",
      "42/42 [==============================] - 0s 3ms/step - loss: 22430786.0000 - val_loss: 11847246.0000\n",
      "Epoch 95/100\n",
      "42/42 [==============================] - 0s 4ms/step - loss: 23049204.0000 - val_loss: 11821037.0000\n",
      "Epoch 96/100\n",
      "42/42 [==============================] - 0s 4ms/step - loss: 22124356.0000 - val_loss: 11890750.0000\n",
      "Epoch 97/100\n",
      "42/42 [==============================] - 0s 3ms/step - loss: 22125362.0000 - val_loss: 11862609.0000\n",
      "Epoch 98/100\n",
      "42/42 [==============================] - 0s 3ms/step - loss: 22040238.0000 - val_loss: 11810182.0000\n",
      "Epoch 99/100\n",
      "42/42 [==============================] - 0s 3ms/step - loss: 21887558.0000 - val_loss: 11809669.0000\n",
      "Epoch 100/100\n",
      "42/42 [==============================] - 0s 3ms/step - loss: 22588676.0000 - val_loss: 11714005.0000\n"
     ]
    },
    {
     "data": {
      "text/plain": [
       "<keras.callbacks.History at 0x7a28afbf4220>"
      ]
     },
     "execution_count": 22,
     "metadata": {},
     "output_type": "execute_result"
    }
   ],
   "source": [
    "from tensorflow.keras.models import Sequential\n",
    "from tensorflow.keras.layers import Dense,Activation,Dropout\n",
    "from tensorflow.keras.callbacks import EarlyStopping\n",
    "\n",
    "model = Sequential()\n",
    "model.add(Dense(34,activation=\"relu\"))\n",
    "model.add(Dropout(0.2))\n",
    "model.add(Dense(12,activation=\"relu\"))\n",
    "model.add(Dense(12,activation=\"relu\"))\n",
    "model.add(Dense(12,activation=\"relu\"))\n",
    "model.add(Dense(1))\n",
    "\n",
    "model.compile(optimizer=\"adam\", loss=\"mse\")\n",
    "es= EarlyStopping(monitor=\"val_loss\",mode=\"min\",verbose=1,patience=25)\n",
    "model.fit(x=Xtr,y=ytr,validation_data=(Xte,yte),batch_size=250,epochs=100,callbacks=[es])"
   ]
  },
  {
   "cell_type": "code",
   "execution_count": 23,
   "id": "457bebfc",
   "metadata": {
    "execution": {
     "iopub.execute_input": "2023-10-06T21:04:34.125718Z",
     "iopub.status.busy": "2023-10-06T21:04:34.125357Z",
     "iopub.status.idle": "2023-10-06T21:04:34.431956Z",
     "shell.execute_reply": "2023-10-06T21:04:34.430702Z"
    },
    "papermill": {
     "duration": 0.343472,
     "end_time": "2023-10-06T21:04:34.434010",
     "exception": false,
     "start_time": "2023-10-06T21:04:34.090538",
     "status": "completed"
    },
    "tags": []
   },
   "outputs": [
    {
     "data": {
      "text/plain": [
       "<Axes: >"
      ]
     },
     "execution_count": 23,
     "metadata": {},
     "output_type": "execute_result"
    },
    {
     "data": {
      "image/png": "[encoded data removed]",
      "text/plain": [
       "<Figure size 640x480 with 1 Axes>"
      ]
     },
     "metadata": {},
     "output_type": "display_data"
    }
   ],
   "source": [
    "kayip=pd.DataFrame(model.history.history)\n",
    "kayip.plot()\n",
    "#We don't need to keep epoch number high 25 will be enough"
   ]
  },
  {
   "cell_type": "code",
   "execution_count": 24,
   "id": "ecf5864f",
   "metadata": {
    "execution": {
     "iopub.execute_input": "2023-10-06T21:04:34.497433Z",
     "iopub.status.busy": "2023-10-06T21:04:34.497068Z",
     "iopub.status.idle": "2023-10-06T21:04:34.958793Z",
     "shell.execute_reply": "2023-10-06T21:04:34.956736Z"
    },
    "papermill": {
     "duration": 0.496539,
     "end_time": "2023-10-06T21:04:34.961414",
     "exception": false,
     "start_time": "2023-10-06T21:04:34.464875",
     "status": "completed"
    },
    "tags": []
   },
   "outputs": [
    {
     "name": "stdout",
     "output_type": "stream",
     "text": [
      "86/86 [==============================] - 0s 1ms/step\n",
      " Mean Absolute Error: 2269.9629498538548 \n",
      " Mean Squeared Error: 11714005.300139954\n"
     ]
    }
   ],
   "source": [
    "from sklearn.metrics import mean_squared_error, mean_absolute_error\n",
    "tahmin = model.predict(Xte)\n",
    "mae = mean_absolute_error(yte,tahmin)\n",
    "mse = mean_squared_error(yte,tahmin)\n",
    "print(f\" Mean Absolute Error: {mae} \\n Mean Squeared Error: {mse}\")"
   ]
  },
  {
   "cell_type": "code",
   "execution_count": 25,
   "id": "5e581a1a",
   "metadata": {
    "execution": {
     "iopub.execute_input": "2023-10-06T21:04:35.049884Z",
     "iopub.status.busy": "2023-10-06T21:04:35.048804Z",
     "iopub.status.idle": "2023-10-06T21:04:35.344948Z",
     "shell.execute_reply": "2023-10-06T21:04:35.343725Z"
    },
    "papermill": {
     "duration": 0.344202,
     "end_time": "2023-10-06T21:04:35.347133",
     "exception": false,
     "start_time": "2023-10-06T21:04:35.002931",
     "status": "completed"
    },
    "tags": []
   },
   "outputs": [
    {
     "data": {
      "text/plain": [
       "[<matplotlib.lines.Line2D at 0x7a283f7c6f80>]"
      ]
     },
     "execution_count": 25,
     "metadata": {},
     "output_type": "execute_result"
    },
    {
     "data": {
      "image/png": "[encoded data removed]",
      "text/plain": [
       "<Figure size 640x480 with 1 Axes>"
      ]
     },
     "metadata": {},
     "output_type": "display_data"
    }
   ],
   "source": [
    "plt.scatter(yte,tahmin)\n",
    "plt.plot(yte,yte,\"g-*\")"
   ]
  }
 ],
 "metadata": {
  "kernelspec": {
   "display_name": "Python 3",
   "language": "python",
   "name": "python3"
  },
  "language_info": {
   "codemirror_mode": {
    "name": "ipython",
    "version": 3
   },
   "file_extension": ".py",
   "mimetype": "text/x-python",
   "name": "python",
   "nbconvert_exporter": "python",
   "pygments_lexer": "ipython3",
   "version": "3.10.12"
  },
  "papermill": {
   "default_parameters": {},
   "duration": 39.889726,
   "end_time": "2023-10-06T21:04:37.305911",
   "environment_variables": {},
   "exception": null,
   "input_path": "__notebook__.ipynb",
   "output_path": "__notebook__.ipynb",
   "parameters": {},
   "start_time": "2023-10-06T21:03:57.416185",
   "version": "2.4.0"
  }
 },
 "nbformat": 4,
 "nbformat_minor": 5
}
